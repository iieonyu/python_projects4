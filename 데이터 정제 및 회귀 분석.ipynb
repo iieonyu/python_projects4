{
 "cells": [
  {
   "cell_type": "code",
   "execution_count": 58,
   "id": "3e4fd518",
   "metadata": {
    "ExecuteTime": {
     "end_time": "2021-12-14T06:18:25.637885Z",
     "start_time": "2021-12-14T06:18:25.620917Z"
    }
   },
   "outputs": [],
   "source": [
    "import pandas as pd\n",
    "import numpy as np\n",
    "import json\n",
    "\n",
    "from bs4 import BeautifulSoup\n",
    "import urllib.request as REQ\n",
    "import matplotlib.pyplot as plt\n",
    "import matplotlib\n",
    "import seaborn as sns\n",
    "import requests\n",
    "import scipy.stats as stats\n",
    "import datetime\n",
    "plt.style.use('ggplot')\n",
    "matplotlib.rcParams['font.family']='Malgun Gothic'\n",
    "matplotlib.rcParams['axes.unicode_minus'] = False\n",
    "from sklearn.model_selection import GridSearchCV\n",
    "import pydotplus\n",
    "from IPython.display import Image\n",
    "from sklearn.tree import export_graphviz  \n",
    "\n",
    "# pd.set_option('display.max_rows', None)\n"
   ]
  },
  {
   "cell_type": "code",
   "execution_count": 59,
   "id": "ea735449",
   "metadata": {
    "ExecuteTime": {
     "end_time": "2021-12-14T06:18:26.016988Z",
     "start_time": "2021-12-14T06:18:25.881351Z"
    }
   },
   "outputs": [],
   "source": [
    "df1 = pd.read_csv('전체카테고리_20211210.csv')\n",
    "df2 = pd.read_csv('전체카테고리_20211211.csv')\n",
    "df3 = pd.read_csv('전체카테고리_20211212.csv')\n",
    "\n"
   ]
  },
  {
   "cell_type": "code",
   "execution_count": 60,
   "id": "13475117",
   "metadata": {
    "ExecuteTime": {
     "end_time": "2021-12-14T06:18:26.111938Z",
     "start_time": "2021-12-14T06:18:26.096978Z"
    }
   },
   "outputs": [],
   "source": [
    "df = pd.concat([df1,df2,df3])\n"
   ]
  },
  {
   "cell_type": "code",
   "execution_count": 61,
   "id": "cce2df98",
   "metadata": {
    "ExecuteTime": {
     "end_time": "2021-12-14T06:18:26.362088Z",
     "start_time": "2021-12-14T06:18:26.321167Z"
    }
   },
   "outputs": [
    {
     "data": {
      "text/html": [
       "<div>\n",
       "<style scoped>\n",
       "    .dataframe tbody tr th:only-of-type {\n",
       "        vertical-align: middle;\n",
       "    }\n",
       "\n",
       "    .dataframe tbody tr th {\n",
       "        vertical-align: top;\n",
       "    }\n",
       "\n",
       "    .dataframe thead th {\n",
       "        text-align: right;\n",
       "    }\n",
       "</style>\n",
       "<table border=\"1\" class=\"dataframe\">\n",
       "  <thead>\n",
       "    <tr style=\"text-align: right;\">\n",
       "      <th></th>\n",
       "      <th>수집일자</th>\n",
       "      <th>카테고리대분류</th>\n",
       "      <th>카테고리중분류</th>\n",
       "      <th>카테고리소분류</th>\n",
       "      <th>카테고리세분류</th>\n",
       "      <th>순위</th>\n",
       "      <th>상품명</th>\n",
       "      <th>상품아이디</th>\n",
       "      <th>판매자</th>\n",
       "      <th>판매자등급</th>\n",
       "      <th>...</th>\n",
       "      <th>배송정보</th>\n",
       "      <th>적립포인트</th>\n",
       "      <th>평점</th>\n",
       "      <th>검색키워드</th>\n",
       "      <th>태그</th>\n",
       "      <th>추가이미지개수</th>\n",
       "      <th>비디오유무</th>\n",
       "      <th>이미지url</th>\n",
       "      <th>이미지사이즈</th>\n",
       "      <th>이미지컬러코드</th>\n",
       "    </tr>\n",
       "  </thead>\n",
       "  <tbody>\n",
       "    <tr>\n",
       "      <th>0</th>\n",
       "      <td>2021-12-10 17:10:54.575132</td>\n",
       "      <td>패션의류</td>\n",
       "      <td>남성의류</td>\n",
       "      <td>점퍼</td>\n",
       "      <td>NaN</td>\n",
       "      <td>1</td>\n",
       "      <td>국내매장판 내셔널지오그래픽 2021 FW 경량 패딩 점퍼 남성 여성 숏패딩 겨울 자켓</td>\n",
       "      <td>83477819660</td>\n",
       "      <td>스니커랩</td>\n",
       "      <td>M44003</td>\n",
       "      <td>...</td>\n",
       "      <td>v2!#!^^택배^^^^3000^6000^^^^^^^</td>\n",
       "      <td>^990^990^^^0^0</td>\n",
       "      <td>4.8</td>\n",
       "      <td>NaN</td>\n",
       "      <td>간절기패딩,남자경량패딩,남자패딩,남자숏패딩,깔깔이</td>\n",
       "      <td>6</td>\n",
       "      <td>0</td>\n",
       "      <td>https://shopping-phinf.pstatic.net/main_834778...</td>\n",
       "      <td>1000x1000</td>\n",
       "      <td>7</td>\n",
       "    </tr>\n",
       "    <tr>\n",
       "      <th>1</th>\n",
       "      <td>2021-12-10 17:10:54.575132</td>\n",
       "      <td>패션의류</td>\n",
       "      <td>남성의류</td>\n",
       "      <td>점퍼</td>\n",
       "      <td>NaN</td>\n",
       "      <td>2</td>\n",
       "      <td>209 에센셜 람포지퍼 덕다운 푸퍼 숏 패딩 자켓 - 헤비다운 대장패딩 겨울 커플점퍼</td>\n",
       "      <td>83548281046</td>\n",
       "      <td>자바나스</td>\n",
       "      <td>M44002</td>\n",
       "      <td>...</td>\n",
       "      <td>v2!#!^^택배^^^^3000^6000^^^^^^^</td>\n",
       "      <td>^1097^1097^^^0^0</td>\n",
       "      <td>4.9</td>\n",
       "      <td>NaN</td>\n",
       "      <td>남자숏패딩,겨울패딩,남성패딩,패딩점퍼</td>\n",
       "      <td>2</td>\n",
       "      <td>0</td>\n",
       "      <td>https://shopping-phinf.pstatic.net/main_835482...</td>\n",
       "      <td>840x840</td>\n",
       "      <td>8</td>\n",
       "    </tr>\n",
       "    <tr>\n",
       "      <th>2</th>\n",
       "      <td>2021-12-10 17:10:54.575132</td>\n",
       "      <td>패션의류</td>\n",
       "      <td>여성의류</td>\n",
       "      <td>바지</td>\n",
       "      <td>NaN</td>\n",
       "      <td>3</td>\n",
       "      <td>[무배] 엘로 부드러운 골지 코듀로이 융기모 밴딩 조거팬츠</td>\n",
       "      <td>83485513012</td>\n",
       "      <td>잇수다</td>\n",
       "      <td>M44003</td>\n",
       "      <td>...</td>\n",
       "      <td>v2!#!^^택배^^^^3000^6000^^^^^^^</td>\n",
       "      <td>^148^148^^^0^0</td>\n",
       "      <td>4.7</td>\n",
       "      <td>NaN</td>\n",
       "      <td>융기모바지,여자기모바지</td>\n",
       "      <td>0</td>\n",
       "      <td>0</td>\n",
       "      <td>https://shopping-phinf.pstatic.net/main_834855...</td>\n",
       "      <td>2000x2500</td>\n",
       "      <td>33</td>\n",
       "    </tr>\n",
       "    <tr>\n",
       "      <th>3</th>\n",
       "      <td>2021-12-10 17:10:54.575132</td>\n",
       "      <td>패션의류</td>\n",
       "      <td>남성언더웨어/잠옷</td>\n",
       "      <td>시즌성내의</td>\n",
       "      <td>내복</td>\n",
       "      <td>4</td>\n",
       "      <td>BYC 남성 여성 발열 기모 내복 남자 여자 성인 내의 보온 겨울 타이즈 상의 하의 세트</td>\n",
       "      <td>81193080648</td>\n",
       "      <td>란제리아</td>\n",
       "      <td>M44002</td>\n",
       "      <td>...</td>\n",
       "      <td>v2!#!^^택배^^^^2500^5000^^^^^^^</td>\n",
       "      <td>^99^99^^^0^0</td>\n",
       "      <td>4.6</td>\n",
       "      <td>NaN</td>\n",
       "      <td>남성내복,남성내의,발열내복,발열내의,히트텍,겨울내복,성인내복</td>\n",
       "      <td>1</td>\n",
       "      <td>0</td>\n",
       "      <td>https://shopping-phinf.pstatic.net/main_811930...</td>\n",
       "      <td>1000x1000</td>\n",
       "      <td>0</td>\n",
       "    </tr>\n",
       "    <tr>\n",
       "      <th>4</th>\n",
       "      <td>2021-12-10 17:10:54.575132</td>\n",
       "      <td>패션의류</td>\n",
       "      <td>남성의류</td>\n",
       "      <td>점퍼</td>\n",
       "      <td>NaN</td>\n",
       "      <td>5</td>\n",
       "      <td>국내매장판 내셔널지오그래픽 21FW 롱패딩 숏패딩 레이만 타루가 여성 남성 구스다운 점퍼</td>\n",
       "      <td>83542825647</td>\n",
       "      <td>국내정품</td>\n",
       "      <td>M44006</td>\n",
       "      <td>...</td>\n",
       "      <td>v2!#!^^택배^^^^3000^6000^^^^^^^</td>\n",
       "      <td>^2540^2540^^^0^0</td>\n",
       "      <td>4.9</td>\n",
       "      <td>NaN</td>\n",
       "      <td>구스패딩,겨울점퍼,캐주얼점퍼,겨울아우터</td>\n",
       "      <td>5</td>\n",
       "      <td>0</td>\n",
       "      <td>https://shopping-phinf.pstatic.net/main_835428...</td>\n",
       "      <td>800x800</td>\n",
       "      <td>37</td>\n",
       "    </tr>\n",
       "    <tr>\n",
       "      <th>...</th>\n",
       "      <td>...</td>\n",
       "      <td>...</td>\n",
       "      <td>...</td>\n",
       "      <td>...</td>\n",
       "      <td>...</td>\n",
       "      <td>...</td>\n",
       "      <td>...</td>\n",
       "      <td>...</td>\n",
       "      <td>...</td>\n",
       "      <td>...</td>\n",
       "      <td>...</td>\n",
       "      <td>...</td>\n",
       "      <td>...</td>\n",
       "      <td>...</td>\n",
       "      <td>...</td>\n",
       "      <td>...</td>\n",
       "      <td>...</td>\n",
       "      <td>...</td>\n",
       "      <td>...</td>\n",
       "      <td>...</td>\n",
       "      <td>...</td>\n",
       "    </tr>\n",
       "    <tr>\n",
       "      <th>4395</th>\n",
       "      <td>2021-12-12 17:01:34.547054</td>\n",
       "      <td>도서</td>\n",
       "      <td>유아</td>\n",
       "      <td>유아학습</td>\n",
       "      <td>영어/숫자 배우기</td>\n",
       "      <td>396</td>\n",
       "      <td>씨투엠 플라토 세트 S P A B C D E F 단계 수학독해 응용연산 도형 학습지</td>\n",
       "      <td>82204128881</td>\n",
       "      <td>봄봄북스</td>\n",
       "      <td>M44003</td>\n",
       "      <td>...</td>\n",
       "      <td>v2!#!^^택배^^^^2500^5000^^^^^^^</td>\n",
       "      <td>^216^216^^^0^0</td>\n",
       "      <td>4.8</td>\n",
       "      <td>NaN</td>\n",
       "      <td>유아수학,유아학습지,초등학습지,연산,초등수학,도형학습,도형학습교구,초등수학문제집,초...</td>\n",
       "      <td>9</td>\n",
       "      <td>0</td>\n",
       "      <td>https://shopping-phinf.pstatic.net/main_822041...</td>\n",
       "      <td>1000x1000</td>\n",
       "      <td>32768</td>\n",
       "    </tr>\n",
       "    <tr>\n",
       "      <th>4396</th>\n",
       "      <td>2021-12-12 17:01:34.547054</td>\n",
       "      <td>도서</td>\n",
       "      <td>유아</td>\n",
       "      <td>유아학습</td>\n",
       "      <td>영어/숫자 배우기</td>\n",
       "      <td>397</td>\n",
       "      <td>국내 호리드 헨리 얼리리더 25권 세트 영어원서 Horrid Henry 음원제공</td>\n",
       "      <td>82535035202</td>\n",
       "      <td>JJ 브라더</td>\n",
       "      <td>M44003</td>\n",
       "      <td>...</td>\n",
       "      <td>v2!#!오늘출발^15:30^택배^^^^30000^60000^^1.3^^^^^</td>\n",
       "      <td>^215^215^^^0^0</td>\n",
       "      <td>4.8</td>\n",
       "      <td>NaN</td>\n",
       "      <td>엄마표영어,초등영어,전집,세트,영어도서,영어단어</td>\n",
       "      <td>1</td>\n",
       "      <td>0</td>\n",
       "      <td>https://shopping-phinf.pstatic.net/main_825350...</td>\n",
       "      <td>876x904</td>\n",
       "      <td>8192</td>\n",
       "    </tr>\n",
       "    <tr>\n",
       "      <th>4397</th>\n",
       "      <td>2021-12-12 17:01:34.547054</td>\n",
       "      <td>도서</td>\n",
       "      <td>인문</td>\n",
       "      <td>인문일반</td>\n",
       "      <td>교양인문</td>\n",
       "      <td>398</td>\n",
       "      <td>(12월 12일 출간 예약판매) GAMERZ 게이머즈 2021년 12월호</td>\n",
       "      <td>83621442307</td>\n",
       "      <td>위즈북</td>\n",
       "      <td>M44004</td>\n",
       "      <td>...</td>\n",
       "      <td>v2!#!^^택배^^^^2500^5000^^^^^^^</td>\n",
       "      <td>^324^324^^^0^0</td>\n",
       "      <td>5.0</td>\n",
       "      <td>NaN</td>\n",
       "      <td>NaN</td>\n",
       "      <td>0</td>\n",
       "      <td>0</td>\n",
       "      <td>https://shopping-phinf.pstatic.net/main_836214...</td>\n",
       "      <td>397x467</td>\n",
       "      <td>0</td>\n",
       "    </tr>\n",
       "    <tr>\n",
       "      <th>4398</th>\n",
       "      <td>2021-12-12 17:01:34.547054</td>\n",
       "      <td>도서</td>\n",
       "      <td>유아</td>\n",
       "      <td>유아학습</td>\n",
       "      <td>한글/말 배우기</td>\n",
       "      <td>399</td>\n",
       "      <td>[선물] 똑똑한 유아 독해 어휘 1 2 3 단계 하루 초등 글쓰기 계산 도형 수학 ...</td>\n",
       "      <td>12714970304</td>\n",
       "      <td>아이북스</td>\n",
       "      <td>M44003</td>\n",
       "      <td>...</td>\n",
       "      <td>v2!#!^^택배^^^^2500^5000^^^^^^^</td>\n",
       "      <td>^151^151^^^0^0</td>\n",
       "      <td>4.7</td>\n",
       "      <td>NaN</td>\n",
       "      <td>NaN</td>\n",
       "      <td>0</td>\n",
       "      <td>0</td>\n",
       "      <td>https://shopping-phinf.pstatic.net/main_127149...</td>\n",
       "      <td>1000x1000</td>\n",
       "      <td>0</td>\n",
       "    </tr>\n",
       "    <tr>\n",
       "      <th>4399</th>\n",
       "      <td>2021-12-12 17:01:34.547054</td>\n",
       "      <td>도서</td>\n",
       "      <td>유아</td>\n",
       "      <td>유아학습</td>\n",
       "      <td>영어/숫자 배우기</td>\n",
       "      <td>400</td>\n",
       "      <td>국내 내셔널 지오그래픽 키즈 137권 세트 영어원서 프레 1 2 3 단계 음원제공</td>\n",
       "      <td>82715493748</td>\n",
       "      <td>콕서점</td>\n",
       "      <td>M44003</td>\n",
       "      <td>...</td>\n",
       "      <td>v2!#!^^택배^^^^5000^10000^^^^^^^</td>\n",
       "      <td>^210^210^^^0^0</td>\n",
       "      <td>4.8</td>\n",
       "      <td>NaN</td>\n",
       "      <td>캐릭터북,영어공부,미국교과서</td>\n",
       "      <td>8</td>\n",
       "      <td>0</td>\n",
       "      <td>https://shopping-phinf.pstatic.net/main_827154...</td>\n",
       "      <td>1000x1000</td>\n",
       "      <td>0</td>\n",
       "    </tr>\n",
       "  </tbody>\n",
       "</table>\n",
       "<p>13200 rows × 30 columns</p>\n",
       "</div>"
      ],
      "text/plain": [
       "                            수집일자 카테고리대분류    카테고리중분류 카테고리소분류    카테고리세분류   순위  \\\n",
       "0     2021-12-10 17:10:54.575132    패션의류       남성의류      점퍼        NaN    1   \n",
       "1     2021-12-10 17:10:54.575132    패션의류       남성의류      점퍼        NaN    2   \n",
       "2     2021-12-10 17:10:54.575132    패션의류       여성의류      바지        NaN    3   \n",
       "3     2021-12-10 17:10:54.575132    패션의류  남성언더웨어/잠옷   시즌성내의         내복    4   \n",
       "4     2021-12-10 17:10:54.575132    패션의류       남성의류      점퍼        NaN    5   \n",
       "...                          ...     ...        ...     ...        ...  ...   \n",
       "4395  2021-12-12 17:01:34.547054      도서         유아    유아학습  영어/숫자 배우기  396   \n",
       "4396  2021-12-12 17:01:34.547054      도서         유아    유아학습  영어/숫자 배우기  397   \n",
       "4397  2021-12-12 17:01:34.547054      도서         인문    인문일반       교양인문  398   \n",
       "4398  2021-12-12 17:01:34.547054      도서         유아    유아학습   한글/말 배우기  399   \n",
       "4399  2021-12-12 17:01:34.547054      도서         유아    유아학습  영어/숫자 배우기  400   \n",
       "\n",
       "                                                    상품명        상품아이디     판매자  \\\n",
       "0       국내매장판 내셔널지오그래픽 2021 FW 경량 패딩 점퍼 남성 여성 숏패딩 겨울 자켓  83477819660    스니커랩   \n",
       "1       209 에센셜 람포지퍼 덕다운 푸퍼 숏 패딩 자켓 - 헤비다운 대장패딩 겨울 커플점퍼  83548281046    자바나스   \n",
       "2                      [무배] 엘로 부드러운 골지 코듀로이 융기모 밴딩 조거팬츠  83485513012     잇수다   \n",
       "3     BYC 남성 여성 발열 기모 내복 남자 여자 성인 내의 보온 겨울 타이즈 상의 하의 세트  81193080648    란제리아   \n",
       "4     국내매장판 내셔널지오그래픽 21FW 롱패딩 숏패딩 레이만 타루가 여성 남성 구스다운 점퍼  83542825647    국내정품   \n",
       "...                                                 ...          ...     ...   \n",
       "4395     씨투엠 플라토 세트 S P A B C D E F 단계 수학독해 응용연산 도형 학습지  82204128881    봄봄북스   \n",
       "4396       국내 호리드 헨리 얼리리더 25권 세트 영어원서 Horrid Henry 음원제공  82535035202  JJ 브라더   \n",
       "4397           (12월 12일 출간 예약판매) GAMERZ 게이머즈 2021년 12월호  83621442307     위즈북   \n",
       "4398  [선물] 똑똑한 유아 독해 어휘 1 2 3 단계 하루 초등 글쓰기 계산 도형 수학 ...  12714970304    아이북스   \n",
       "4399      국내 내셔널 지오그래픽 키즈 137권 세트 영어원서 프레 1 2 3 단계 음원제공  82715493748     콕서점   \n",
       "\n",
       "       판매자등급  ...                                         배송정보  \\\n",
       "0     M44003  ...                v2!#!^^택배^^^^3000^6000^^^^^^^   \n",
       "1     M44002  ...                v2!#!^^택배^^^^3000^6000^^^^^^^   \n",
       "2     M44003  ...                v2!#!^^택배^^^^3000^6000^^^^^^^   \n",
       "3     M44002  ...                v2!#!^^택배^^^^2500^5000^^^^^^^   \n",
       "4     M44006  ...                v2!#!^^택배^^^^3000^6000^^^^^^^   \n",
       "...      ...  ...                                          ...   \n",
       "4395  M44003  ...                v2!#!^^택배^^^^2500^5000^^^^^^^   \n",
       "4396  M44003  ...  v2!#!오늘출발^15:30^택배^^^^30000^60000^^1.3^^^^^   \n",
       "4397  M44004  ...                v2!#!^^택배^^^^2500^5000^^^^^^^   \n",
       "4398  M44003  ...                v2!#!^^택배^^^^2500^5000^^^^^^^   \n",
       "4399  M44003  ...               v2!#!^^택배^^^^5000^10000^^^^^^^   \n",
       "\n",
       "                 적립포인트   평점  검색키워드  \\\n",
       "0       ^990^990^^^0^0  4.8    NaN   \n",
       "1     ^1097^1097^^^0^0  4.9    NaN   \n",
       "2       ^148^148^^^0^0  4.7    NaN   \n",
       "3         ^99^99^^^0^0  4.6    NaN   \n",
       "4     ^2540^2540^^^0^0  4.9    NaN   \n",
       "...                ...  ...    ...   \n",
       "4395    ^216^216^^^0^0  4.8    NaN   \n",
       "4396    ^215^215^^^0^0  4.8    NaN   \n",
       "4397    ^324^324^^^0^0  5.0    NaN   \n",
       "4398    ^151^151^^^0^0  4.7    NaN   \n",
       "4399    ^210^210^^^0^0  4.8    NaN   \n",
       "\n",
       "                                                     태그  추가이미지개수  비디오유무  \\\n",
       "0                           간절기패딩,남자경량패딩,남자패딩,남자숏패딩,깔깔이        6      0   \n",
       "1                                  남자숏패딩,겨울패딩,남성패딩,패딩점퍼        2      0   \n",
       "2                                          융기모바지,여자기모바지        0      0   \n",
       "3                     남성내복,남성내의,발열내복,발열내의,히트텍,겨울내복,성인내복        1      0   \n",
       "4                                 구스패딩,겨울점퍼,캐주얼점퍼,겨울아우터        5      0   \n",
       "...                                                 ...      ...    ...   \n",
       "4395  유아수학,유아학습지,초등학습지,연산,초등수학,도형학습,도형학습교구,초등수학문제집,초...        9      0   \n",
       "4396                         엄마표영어,초등영어,전집,세트,영어도서,영어단어        1      0   \n",
       "4397                                                NaN        0      0   \n",
       "4398                                                NaN        0      0   \n",
       "4399                                    캐릭터북,영어공부,미국교과서        8      0   \n",
       "\n",
       "                                                 이미지url     이미지사이즈  이미지컬러코드  \n",
       "0     https://shopping-phinf.pstatic.net/main_834778...  1000x1000        7  \n",
       "1     https://shopping-phinf.pstatic.net/main_835482...    840x840        8  \n",
       "2     https://shopping-phinf.pstatic.net/main_834855...  2000x2500       33  \n",
       "3     https://shopping-phinf.pstatic.net/main_811930...  1000x1000        0  \n",
       "4     https://shopping-phinf.pstatic.net/main_835428...    800x800       37  \n",
       "...                                                 ...        ...      ...  \n",
       "4395  https://shopping-phinf.pstatic.net/main_822041...  1000x1000    32768  \n",
       "4396  https://shopping-phinf.pstatic.net/main_825350...    876x904     8192  \n",
       "4397  https://shopping-phinf.pstatic.net/main_836214...    397x467        0  \n",
       "4398  https://shopping-phinf.pstatic.net/main_127149...  1000x1000        0  \n",
       "4399  https://shopping-phinf.pstatic.net/main_827154...  1000x1000        0  \n",
       "\n",
       "[13200 rows x 30 columns]"
      ]
     },
     "execution_count": 61,
     "metadata": {},
     "output_type": "execute_result"
    }
   ],
   "source": [
    "df"
   ]
  },
  {
   "cell_type": "code",
   "execution_count": 62,
   "id": "7698e60a",
   "metadata": {
    "ExecuteTime": {
     "end_time": "2021-12-14T06:18:26.580080Z",
     "start_time": "2021-12-14T06:18:26.547939Z"
    }
   },
   "outputs": [
    {
     "name": "stdout",
     "output_type": "stream",
     "text": [
      "<class 'pandas.core.frame.DataFrame'>\n",
      "Int64Index: 13200 entries, 0 to 4399\n",
      "Data columns (total 30 columns):\n",
      " #   Column   Non-Null Count  Dtype  \n",
      "---  ------   --------------  -----  \n",
      " 0   수집일자     13200 non-null  object \n",
      " 1   카테고리대분류  13200 non-null  object \n",
      " 2   카테고리중분류  13200 non-null  object \n",
      " 3   카테고리소분류  13187 non-null  object \n",
      " 4   카테고리세분류  6513 non-null   object \n",
      " 5   순위       13200 non-null  int64  \n",
      " 6   상품명      13200 non-null  object \n",
      " 7   상품아이디    13200 non-null  int64  \n",
      " 8   판매자      13200 non-null  object \n",
      " 9   판매자등급    13200 non-null  object \n",
      " 10  굿서비스     13200 non-null  bool   \n",
      " 11  가격       13200 non-null  int64  \n",
      " 12  등록일자     13200 non-null  int64  \n",
      " 13  리뷰건수     13200 non-null  int64  \n",
      " 14  리뷰건수합    13200 non-null  int64  \n",
      " 15  구매건수     13200 non-null  int64  \n",
      " 16  찜하기수     13167 non-null  float64\n",
      " 17  쿠폰유무     13200 non-null  int64  \n",
      " 18  이벤트유무    13200 non-null  int64  \n",
      " 19  배송비      13200 non-null  int64  \n",
      " 20  배송정보     13200 non-null  object \n",
      " 21  적립포인트    13200 non-null  object \n",
      " 22  평점       13058 non-null  float64\n",
      " 23  검색키워드    220 non-null    object \n",
      " 24  태그       10383 non-null  object \n",
      " 25  추가이미지개수  13200 non-null  int64  \n",
      " 26  비디오유무    13200 non-null  int64  \n",
      " 27  이미지url   13200 non-null  object \n",
      " 28  이미지사이즈   13200 non-null  object \n",
      " 29  이미지컬러코드  13200 non-null  int64  \n",
      "dtypes: bool(1), float64(2), int64(13), object(14)\n",
      "memory usage: 3.0+ MB\n"
     ]
    }
   ],
   "source": [
    "df.info()"
   ]
  },
  {
   "cell_type": "code",
   "execution_count": 63,
   "id": "e12573ad",
   "metadata": {
    "ExecuteTime": {
     "end_time": "2021-12-14T06:18:26.845100Z",
     "start_time": "2021-12-14T06:18:26.819202Z"
    }
   },
   "outputs": [
    {
     "data": {
      "text/plain": [
       "수집일자           0\n",
       "카테고리대분류        0\n",
       "카테고리중분류        0\n",
       "카테고리소분류       13\n",
       "카테고리세분류     6687\n",
       "순위             0\n",
       "상품명            0\n",
       "상품아이디          0\n",
       "판매자            0\n",
       "판매자등급          0\n",
       "굿서비스           0\n",
       "가격             0\n",
       "등록일자           0\n",
       "리뷰건수           0\n",
       "리뷰건수합          0\n",
       "구매건수           0\n",
       "찜하기수          33\n",
       "쿠폰유무           0\n",
       "이벤트유무          0\n",
       "배송비            0\n",
       "배송정보           0\n",
       "적립포인트          0\n",
       "평점           142\n",
       "검색키워드      12980\n",
       "태그          2817\n",
       "추가이미지개수        0\n",
       "비디오유무          0\n",
       "이미지url         0\n",
       "이미지사이즈         0\n",
       "이미지컬러코드        0\n",
       "dtype: int64"
      ]
     },
     "execution_count": 63,
     "metadata": {},
     "output_type": "execute_result"
    }
   ],
   "source": [
    "df.isna().sum()"
   ]
  },
  {
   "cell_type": "markdown",
   "id": "bbd402e4",
   "metadata": {},
   "source": [
    "# 전처리`"
   ]
  },
  {
   "cell_type": "code",
   "execution_count": 64,
   "id": "e690912c",
   "metadata": {
    "ExecuteTime": {
     "end_time": "2021-12-14T06:18:27.342743Z",
     "start_time": "2021-12-14T06:18:27.334764Z"
    }
   },
   "outputs": [],
   "source": [
    "from sklearn.preprocessing import LabelEncoder"
   ]
  },
  {
   "cell_type": "code",
   "execution_count": 65,
   "id": "73c56081",
   "metadata": {
    "ExecuteTime": {
     "end_time": "2021-12-14T06:18:27.640474Z",
     "start_time": "2021-12-14T06:18:27.620527Z"
    }
   },
   "outputs": [],
   "source": [
    "def period(df):\n",
    "    df['수집일자'] = df['수집일자'].str[:10].apply(lambda x: datetime.strptime(x,\"%Y-%m-%d\"))\n",
    "    df['등록일자'] = df['등록일자'].astype('str').str[:8].apply(lambda x: datetime.strptime(x,\"%Y%m%d\")) \n",
    "    df['판매기간'] = (df['수집일자']-df['등록일자']).dt.days\n",
    "\n",
    "    return df\n",
    "\n",
    "\n",
    "# 전처리 함수 만들기\n",
    "def dropcol(df) : # '등록일자', '리뷰건수', '찜하기수' 미포함\n",
    "    df.drop(['수집일자','상품아이디', '카테고리세분류', '상품명', '판매자', '리뷰건수', '등록일자','이미지url','이미지사이즈','이미지컬러코드'], axis=1, inplace=True) \n",
    "    return df\n",
    "def encodecol(df):\n",
    "    df['판매자등급'] = df['판매자등급'].str.extract(pat = '([0-9]$)').astype(int)\n",
    "    df['굿서비스'] = df['굿서비스'].astype(int)\n",
    "    df['적립포인트'] = df['적립포인트'].str.extract(pat = '([0-9]+)').astype(int)\n",
    "    df['배송정보'] = df['배송정보'].str.extract(pat = '([오]...)')\n",
    "    df['배송정보'] = df['배송정보'].apply(lambda x: 1 if str(x) == '오늘출발' else 0)\n",
    "    df['검색키워드'] = df['검색키워드'].notnull().astype(int); df\n",
    "    df['태그'] = df['태그'].apply(lambda x : len(str(x).split(',')) if str(x) != 'nan' else 0)\n",
    "    df['배송비'] = df['배송비'].apply(lambda x: 0 if x == 0 else 1)\n",
    "    df['찜하기수'] = df['찜하기수'].fillna(0)\n",
    "    df['평점'] = df['평점'].fillna(0)\n",
    "\n",
    "    \n",
    "    return df\n",
    "def lecol(df):\n",
    "    features = ['카테고리대분류', '카테고리중분류', '카테고리소분류']\n",
    "    for f in features:\n",
    "        le = LabelEncoder()\n",
    "        le.fit(df.loc[:,f])\n",
    "        df.loc[:,f] = le.transform(df.loc[:,f])\n",
    "    return df"
   ]
  },
  {
   "cell_type": "code",
   "execution_count": 66,
   "id": "96b7ba44",
   "metadata": {
    "ExecuteTime": {
     "end_time": "2021-12-14T06:18:28.153092Z",
     "start_time": "2021-12-14T06:18:28.142092Z"
    }
   },
   "outputs": [],
   "source": [
    "def preprocessing(df):\n",
    "    df = period(df)\n",
    "    df = dropcol(df)\n",
    "    df = encodecol(df)\n",
    "    df = lecol(df)\n",
    "\n",
    "    return df"
   ]
  },
  {
   "cell_type": "code",
   "execution_count": 67,
   "id": "ea4e10cd",
   "metadata": {
    "ExecuteTime": {
     "end_time": "2021-12-14T06:18:28.525692Z",
     "start_time": "2021-12-14T06:18:28.437897Z"
    }
   },
   "outputs": [],
   "source": [
    "df = preprocessing(df)"
   ]
  },
  {
   "cell_type": "code",
   "execution_count": 68,
   "id": "f5ebfe48",
   "metadata": {
    "ExecuteTime": {
     "end_time": "2021-12-14T06:18:28.883027Z",
     "start_time": "2021-12-14T06:18:28.872022Z"
    }
   },
   "outputs": [],
   "source": [
    "\n",
    "\n",
    "# df.drop_duplicates(inplace=True); df.shape"
   ]
  },
  {
   "cell_type": "code",
   "execution_count": 69,
   "id": "b5525c6e",
   "metadata": {
    "ExecuteTime": {
     "end_time": "2021-12-14T06:18:29.116817Z",
     "start_time": "2021-12-14T06:18:29.093847Z"
    }
   },
   "outputs": [
    {
     "data": {
      "text/plain": [
       "카테고리대분류    0\n",
       "카테고리중분류    0\n",
       "카테고리소분류    0\n",
       "순위         0\n",
       "판매자등급      0\n",
       "굿서비스       0\n",
       "가격         0\n",
       "리뷰건수합      0\n",
       "구매건수       0\n",
       "찜하기수       0\n",
       "쿠폰유무       0\n",
       "이벤트유무      0\n",
       "배송비        0\n",
       "배송정보       0\n",
       "적립포인트      0\n",
       "평점         0\n",
       "검색키워드      0\n",
       "태그         0\n",
       "추가이미지개수    0\n",
       "비디오유무      0\n",
       "dtype: int64"
      ]
     },
     "execution_count": 69,
     "metadata": {},
     "output_type": "execute_result"
    }
   ],
   "source": [
    "df.isna().sum() # 변수별 결측치 확인"
   ]
  },
  {
   "cell_type": "code",
   "execution_count": 70,
   "id": "904e1f7c",
   "metadata": {
    "ExecuteTime": {
     "end_time": "2021-12-14T06:18:29.334502Z",
     "start_time": "2021-12-14T06:18:29.327519Z"
    }
   },
   "outputs": [],
   "source": [
    "X = df.drop('리뷰건수합', axis = 1)\n",
    "Y = df['리뷰건수합']"
   ]
  },
  {
   "cell_type": "code",
   "execution_count": 71,
   "id": "cfe459fe",
   "metadata": {
    "ExecuteTime": {
     "end_time": "2021-12-14T06:18:29.553883Z",
     "start_time": "2021-12-14T06:18:29.530944Z"
    }
   },
   "outputs": [],
   "source": [
    "cols = X.columns\n",
    "skewness = X[cols].apply(lambda x : x.skew()).sort_values(ascending=False)\n",
    "\n",
    "sk_df = pd.DataFrame(skewness, columns=['skewness'])\n",
    "sk_df['skw'] = abs(sk_df)\n",
    "sk_df = sk_df.sort_values(by='skw', ascending=False).drop('skw', axis=1)"
   ]
  },
  {
   "cell_type": "code",
   "execution_count": 72,
   "id": "95db33a7",
   "metadata": {
    "ExecuteTime": {
     "end_time": "2021-12-14T06:18:29.758384Z",
     "start_time": "2021-12-14T06:18:29.752374Z"
    }
   },
   "outputs": [
    {
     "data": {
      "text/plain": [
       "array(['가격', '검색키워드', '구매건수', '굿서비스', '배송정보', '비디오유무', '이벤트유무', '적립포인트',\n",
       "       '찜하기수', '쿠폰유무', '판매자등급', '평점'], dtype=object)"
      ]
     },
     "execution_count": 72,
     "metadata": {},
     "output_type": "execute_result"
    }
   ],
   "source": [
    "skw_feature = np.unique(sk_df[abs(sk_df.skewness)>0.5].index)\n",
    "skw_feature #배송비 없음 "
   ]
  },
  {
   "cell_type": "code",
   "execution_count": 73,
   "id": "696ab104",
   "metadata": {
    "ExecuteTime": {
     "end_time": "2021-12-14T06:18:30.024033Z",
     "start_time": "2021-12-14T06:18:30.007055Z"
    }
   },
   "outputs": [],
   "source": [
    "# X[skw_feature] = np.log1p(X[skw_feature])"
   ]
  },
  {
   "cell_type": "code",
   "execution_count": 74,
   "id": "5adab531",
   "metadata": {
    "ExecuteTime": {
     "end_time": "2021-12-14T06:18:30.308286Z",
     "start_time": "2021-12-14T06:18:30.287312Z"
    }
   },
   "outputs": [],
   "source": [
    "from sklearn.model_selection import train_test_split\n",
    "\n",
    "x_train, x_test, y_train, y_test = train_test_split(X, Y, test_size=0.3, random_state=1234)"
   ]
  },
  {
   "cell_type": "code",
   "execution_count": 75,
   "id": "abd3eed2",
   "metadata": {
    "ExecuteTime": {
     "end_time": "2021-12-14T06:18:30.605628Z",
     "start_time": "2021-12-14T06:18:30.588642Z"
    }
   },
   "outputs": [],
   "source": [
    "from sklearn.metrics import mean_squared_error, mean_absolute_error, r2_score"
   ]
  },
  {
   "cell_type": "markdown",
   "id": "d3d4fe74",
   "metadata": {},
   "source": [
    "# 선형회귀 lm"
   ]
  },
  {
   "cell_type": "code",
   "execution_count": 76,
   "id": "4ca8b3bc",
   "metadata": {
    "ExecuteTime": {
     "end_time": "2021-12-14T06:18:31.117316Z",
     "start_time": "2021-12-14T06:18:31.099365Z"
    }
   },
   "outputs": [],
   "source": [
    "# # linearRegression\n",
    "# from sklearn.linear_model import LinearRegression\n",
    "\n",
    "# lr_model = LinearRegression()\n",
    "# lr_model.fit(x_train, y_train)\n",
    "# y_pred = lr_model.predict(x_test)\n",
    "\n",
    "# from sklearn.metrics import mean_squared_error, mean_absolute_error, r2_score\n",
    "\n",
    "# print(f'r2_score : {r2_score(y_test, y_pred)}')\n",
    "# # print(mean_squared_error(y_test, y_pred))\n",
    "# print(f'RMSE : {np.sqrt(mean_squared_error(y_test, y_pred))}')"
   ]
  },
  {
   "cell_type": "markdown",
   "id": "17bfca66",
   "metadata": {},
   "source": [
    "- Ridge, Lasso, elasticNet 회귀 분석에서는 multicollinearity 다중공선성 문제와 over-fitting 과적합 문제 방지를 위해 아래와 같은 정규화 방식이 적용되었습니다.\n",
    "- Ridge 회귀 모델은  L2 정규화\n",
    "- Lasso 회귀모델은 L1 정규화\n",
    "- elasticNet은 Ridge의 L2와 Lasso의 L1 정규화 혼합"
   ]
  },
  {
   "cell_type": "markdown",
   "id": "4cd72958",
   "metadata": {},
   "source": [
    "# Ridge"
   ]
  },
  {
   "cell_type": "code",
   "execution_count": 77,
   "id": "2554d2e6",
   "metadata": {
    "ExecuteTime": {
     "end_time": "2021-12-14T06:18:34.016263Z",
     "start_time": "2021-12-14T06:18:34.002299Z"
    }
   },
   "outputs": [],
   "source": [
    "\n",
    "from sklearn.model_selection import GridSearchCV,RandomizedSearchCV,learning_curve, cross_val_score, KFold\n",
    "from sklearn.preprocessing import StandardScaler, RobustScaler\n",
    "from sklearn.svm import SVR\n",
    "from sklearn.ensemble import RandomForestRegressor\n",
    "from sklearn.metrics import accuracy_score, mean_squared_error\n",
    "\n",
    "from sklearn.linear_model import LassoCV,ElasticNetCV,Lasso,ElasticNet\n",
    "from sklearn.kernel_ridge import KernelRidge\n",
    "\n",
    "\n",
    "# 아래 추가적인 패키지가 설치가 되어 있어야 함!!!!!!!\n",
    "from xgboost import XGBRegressor\n",
    "from mlxtend.regressor import StackingRegressor\n",
    "\n",
    "# 시간\n",
    "import time"
   ]
  },
  {
   "cell_type": "code",
   "execution_count": 78,
   "id": "9e35719b",
   "metadata": {
    "ExecuteTime": {
     "end_time": "2021-12-14T06:18:35.091007Z",
     "start_time": "2021-12-14T06:18:35.079016Z"
    }
   },
   "outputs": [],
   "source": [
    "kfold_num = 6\n",
    "\n",
    "kfold = KFold(n_splits = kfold_num,shuffle = True, random_state = 0)"
   ]
  },
  {
   "cell_type": "code",
   "execution_count": 79,
   "id": "6b22174a",
   "metadata": {
    "ExecuteTime": {
     "end_time": "2021-12-14T06:18:35.405721Z",
     "start_time": "2021-12-14T06:18:35.394722Z"
    }
   },
   "outputs": [],
   "source": [
    "# V패키지 버전에 따라 정확하게 1:! 안되고 ㄱ부호 등 수정을 해야할 수 있음\n",
    "# 지금 사용하는 패키지를 보고, \n",
    "\n",
    "def rmse_cv(model):\n",
    "    rmse = np.sqrt(-cross_val_score(model, x_train, y_train, cv=kfold, scoring=\"neg_mean_squared_error\"))\n",
    "    return rmse\n",
    "\n"
   ]
  },
  {
   "cell_type": "code",
   "execution_count": 80,
   "id": "0ad61aa4",
   "metadata": {
    "ExecuteTime": {
     "end_time": "2021-12-14T06:18:50.903967Z",
     "start_time": "2021-12-14T06:18:36.462711Z"
    }
   },
   "outputs": [
    {
     "name": "stdout",
     "output_type": "stream",
     "text": [
      "15009.341515530206\n",
      "4323.145703072325\n"
     ]
    }
   ],
   "source": [
    "kr_model = KernelRidge()\n",
    "score = rmse_cv(kr_model)\n",
    "print(score.mean())\n",
    "print(score.std())"
   ]
  },
  {
   "cell_type": "code",
   "execution_count": 96,
   "id": "518842a9",
   "metadata": {
    "ExecuteTime": {
     "end_time": "2021-12-14T08:34:47.208584Z",
     "start_time": "2021-12-14T07:20:09.533756Z"
    },
    "scrolled": false
   },
   "outputs": [
    {
     "name": "stdout",
     "output_type": "stream",
     "text": [
      "Fitting 6 folds for each of 10 candidates, totalling 60 fits\n"
     ]
    },
    {
     "name": "stderr",
     "output_type": "stream",
     "text": [
      "C:\\ProgramData\\Anaconda3\\lib\\site-packages\\sklearn\\linear_model\\_ridge.py:190: UserWarning: Singular matrix in solving dual problem. Using least-squares solution instead.\n",
      "  warnings.warn(\"Singular matrix in solving dual problem. Using \"\n"
     ]
    },
    {
     "name": "stdout",
     "output_type": "stream",
     "text": [
      "Process Time 4477.657893419266\n"
     ]
    }
   ],
   "source": [
    "# KernelRidge(alpha=0.005, coef0=1.6, degree=2, kernel='polynomial')\n",
    "# alpha=0.005, coef0=1.6, degree=2, kernel='polynomial')\n",
    "# KernelRidge -> RandomGridsearch\n",
    "kr_model = KernelRidge()\n",
    "\n",
    "t1 = time.time()\n",
    "parameters = {\n",
    "    \"alpha\" : [ 0.004, 0.005, 0.003,0.015],\n",
    "    \"kernel\" : [\"rbf\",\"polynomial\"],\n",
    "    \"degree\" : [1.5,2,2.1,2.2,2.5],\n",
    "    \"coef0\" : [1.5, 1.6, 1.65,1.7]\n",
    "}\n",
    "# RGS \n",
    "kr_rgs_model = RandomizedSearchCV(\n",
    "    kr_model, \n",
    "    param_distributions=parameters,\n",
    "    cv = kfold,\n",
    "    scoring = \"neg_root_mean_squared_error\", \n",
    "    n_jobs=-1,\n",
    "    verbose=2\n",
    ")\n",
    "kr_rgs_model_result = kr_rgs_model.fit(x_train, y_train)\n",
    "t2 = time.time()\n",
    "print(\"Process Time\", str(t2-t1))\n"
   ]
  },
  {
   "cell_type": "code",
   "execution_count": 97,
   "id": "8fe96af1",
   "metadata": {
    "ExecuteTime": {
     "end_time": "2021-12-14T08:34:48.234079Z",
     "start_time": "2021-12-14T08:34:47.218558Z"
    }
   },
   "outputs": [
    {
     "name": "stdout",
     "output_type": "stream",
     "text": [
      "R2 score : 0.6876512885978894, RMSE : 11812.65097054403\n",
      "Best Score : -15218.771865208291\n",
      "Best Estimator : KernelRidge(alpha=0.003, coef0=1.7, degree=2, kernel='polynomial')\n",
      "훈련 세트의 정확도 : -12516.42\n",
      "테스트 세트의 정확도 : -11812.65\n"
     ]
    }
   ],
   "source": [
    "kr_r2score = r2_score(y_test, kr_rgs_model.predict(x_test)) # 결정계수 R^2 score\n",
    "kr_rmse = mean_squared_error(y_test, kr_rgs_model.predict(x_test), squared=False) # RMSE\n",
    "print(f'R2 score : {kr_r2score}, RMSE : {kr_rmse}')\n",
    "print(f'Best Score : {kr_rgs_model.best_score_}')\n",
    "print(f'Best Estimator : {kr_rgs_model.best_estimator_}')\n",
    "print(\"훈련 세트의 정확도 : {:.2f}\".format(kr_rgs_model.score(x_train,y_train)))\n",
    "print(\"테스트 세트의 정확도 : {:.2f}\".format(kr_rgs_model.score(x_test,y_test)))\n"
   ]
  },
  {
   "cell_type": "code",
   "execution_count": null,
   "id": "c9aaafec",
   "metadata": {},
   "outputs": [],
   "source": []
  },
  {
   "cell_type": "markdown",
   "id": "cbd227eb",
   "metadata": {},
   "source": [
    "- Ridge 파라미터 튜닝"
   ]
  },
  {
   "cell_type": "code",
   "execution_count": null,
   "id": "749edf18",
   "metadata": {},
   "outputs": [],
   "source": [
    "# 학습곡선 : 데이터셋의 샘플링에 따른 모델의 성능변화 그래프\n",
    "# import mglearn\n",
    "\n",
    "# from sklearn.model_selection import train_test_split\n",
    "\n",
    "\n",
    "\n",
    "# X, y = mglearn.datasets.load_extended_boston()\n",
    "\n",
    "# X_train, X_test, y_train, y_test = train_test_split(X, y, random_state=42)\n",
    "\n",
    "\n",
    "\n",
    "# mglearn.plots.plot_ridge_n_samples()\n"
   ]
  },
  {
   "cell_type": "code",
   "execution_count": null,
   "id": "1ba6df8f",
   "metadata": {},
   "outputs": [],
   "source": []
  },
  {
   "cell_type": "code",
   "execution_count": null,
   "id": "258db80c",
   "metadata": {},
   "outputs": [],
   "source": []
  },
  {
   "cell_type": "code",
   "execution_count": null,
   "id": "9ba03172",
   "metadata": {},
   "outputs": [],
   "source": []
  },
  {
   "cell_type": "markdown",
   "id": "3b950fd8",
   "metadata": {},
   "source": [
    "# Lasso"
   ]
  },
  {
   "cell_type": "code",
   "execution_count": 16,
   "id": "9c48acfe",
   "metadata": {
    "ExecuteTime": {
     "end_time": "2021-12-13T07:05:34.982553Z",
     "start_time": "2021-12-13T07:05:33.974374Z"
    }
   },
   "outputs": [
    {
     "name": "stdout",
     "output_type": "stream",
     "text": [
      "r2_score : 0.5529577964191161\n",
      "RMSE : 14131.939688439797\n"
     ]
    }
   ],
   "source": [
    "# # Lasso Regression\n",
    "# from sklearn.linear_model import Lasso\n",
    "\n",
    "\n",
    "# ls_model = Lasso()\n",
    "# ls_model.fit(x_train, y_train)\n",
    "# y_pred = ls_model.predict(x_test)\n",
    "# print(f'r2_score : {r2_score(y_test, y_pred)}')\n",
    "# # print(mean_squared_error(y_test, y_pred))\n",
    "# print(f'RMSE : {np.sqrt(mean_squared_error(y_test, y_pred))}')\n"
   ]
  },
  {
   "cell_type": "markdown",
   "id": "e6f01603",
   "metadata": {},
   "source": [
    "# Elastic Net"
   ]
  },
  {
   "cell_type": "code",
   "execution_count": 21,
   "id": "7871be53",
   "metadata": {
    "ExecuteTime": {
     "end_time": "2021-12-14T01:57:58.314001Z",
     "start_time": "2021-12-14T01:57:58.280982Z"
    }
   },
   "outputs": [
    {
     "name": "stdout",
     "output_type": "stream",
     "text": [
      "r2_score : 0.550634732215431\n",
      "RMSE : 14168.610570676055\n"
     ]
    }
   ],
   "source": [
    "# ElasticNet Regression\n",
    "from sklearn.linear_model import ElasticNet\n",
    "\n",
    "en_model = ElasticNet()\n",
    "en_model.fit(x_train, y_train)\n",
    "y_pred = en_model.predict(x_test)\n",
    "print(f'r2_score : {r2_score(y_test, y_pred)}')\n",
    "# print(mean_squared_error(y_test, y_pred))\n",
    "print(f'RMSE : {np.sqrt(mean_squared_error(y_test, y_pred))}')\n"
   ]
  },
  {
   "cell_type": "code",
   "execution_count": 94,
   "id": "d7a27439",
   "metadata": {
    "ExecuteTime": {
     "end_time": "2021-12-14T07:18:56.229525Z",
     "start_time": "2021-12-14T07:18:52.366118Z"
    }
   },
   "outputs": [
    {
     "name": "stdout",
     "output_type": "stream",
     "text": [
      "Fitting 6 folds for each of 20 candidates, totalling 120 fits\n",
      "Process Time 3.852442741394043\n"
     ]
    },
    {
     "name": "stderr",
     "output_type": "stream",
     "text": [
      "C:\\ProgramData\\Anaconda3\\lib\\site-packages\\sklearn\\linear_model\\_coordinate_descent.py:530: ConvergenceWarning: Objective did not converge. You might want to increase the number of iterations. Duality gap: 280564757954.96985, tolerance: 11712726.501211122\n",
      "  model = cd_fast.enet_coordinate_descent(\n"
     ]
    }
   ],
   "source": [
    "# 1. ElasticNet(alpha=0.01, l1_ratio=0.0001, random_state=1234, tol=1e-05)\n",
    "\n",
    "# elastic -> RandomGridsearch\n",
    "elnet_model = ElasticNet(random_state=1234, normalize=False)\n",
    "\n",
    "t1 = time.time()\n",
    "parameters = {\n",
    "    # Lasso에서 어느 정도 규약을 지정할지에 대한 부분..\n",
    "    \"alpha\" : [0.02,0.05,0.04,0.07],\n",
    "    \"l1_ratio\" : [0.00005,0.000001,0.0001,0.0002], \n",
    "    \n",
    "    # 실제 구현상으로 수치 연산 과정에서 필요한 설정\n",
    "    \"tol\" : [0.000003,0.000001, 0.00005], \n",
    "    \"max_iter\" : [2000,3000]\n",
    "}\n",
    "# RGS\n",
    "n_iter_search = 20\n",
    "elnet_rgs_model = RandomizedSearchCV(\n",
    "    elnet_model, \n",
    "    param_distributions=parameters,\n",
    "    n_iter=n_iter_search,\n",
    "    cv = kfold,\n",
    "    scoring = \"neg_root_mean_squared_error\", \n",
    "    random_state=1234,\n",
    "    n_jobs=-1,\n",
    "    verbose=2\n",
    ")\n",
    "elnet_rgs_model.fit(x_train, y_train)\n",
    "t2 = time.time()\n",
    "print(\"Process Time\", str(t2-t1))"
   ]
  },
  {
   "cell_type": "code",
   "execution_count": 95,
   "id": "96623405",
   "metadata": {
    "ExecuteTime": {
     "end_time": "2021-12-14T07:18:58.961651Z",
     "start_time": "2021-12-14T07:18:58.930695Z"
    }
   },
   "outputs": [
    {
     "name": "stdout",
     "output_type": "stream",
     "text": [
      "R2 score : 0.5522873681786289, RMSE : 14142.53253833359\n",
      "Best Score : -15001.376375874825\n",
      "Best Estimator : ElasticNet(alpha=0.07, l1_ratio=1e-06, max_iter=2000, random_state=1234,\n",
      "           tol=3e-06)\n",
      "훈련 세트의 정확도 : -14604.33\n",
      "테스트 세트의 정확도 : -14142.53\n"
     ]
    }
   ],
   "source": [
    "kr_r2score = r2_score(y_test, elnet_rgs_model.predict(x_test)) # 결정계수 R^2 score\n",
    "kr_rmse = mean_squared_error(y_test, elnet_rgs_model.predict(x_test), squared=False) # RMSE\n",
    "print(f'R2 score : {kr_r2score}, RMSE : {kr_rmse}')\n",
    "print(f'Best Score : {elnet_rgs_model.best_score_}')\n",
    "print(f'Best Estimator : {elnet_rgs_model.best_estimator_}')\n",
    "print(\"훈련 세트의 정확도 : {:.2f}\".format(elnet_rgs_model.score(x_train,y_train)))\n",
    "print(\"테스트 세트의 정확도 : {:.2f}\".format(elnet_rgs_model.score(x_test,y_test)))\n"
   ]
  },
  {
   "cell_type": "markdown",
   "id": "bb1ecb7f",
   "metadata": {},
   "source": [
    "# SVM"
   ]
  },
  {
   "cell_type": "code",
   "execution_count": 22,
   "id": "74784dad",
   "metadata": {
    "ExecuteTime": {
     "end_time": "2021-12-14T01:57:59.240877Z",
     "start_time": "2021-12-14T01:57:59.236891Z"
    }
   },
   "outputs": [],
   "source": [
    "# # Support Vector machine\n",
    "# from sklearn.svm import SVR\n",
    "\n",
    "# svm_model = SVR()\n",
    "# svm_model.fit(x_train, y_train)\n",
    "# y_pred = svm_model.predict(x_test)\n",
    "# print(f'r2_score : {r2_score(y_test, y_pred)}')\n",
    "# # print(mean_squared_error(y_test, y_pred))\n",
    "# print(f'RMSE : {np.sqrt(mean_squared_error(y_test, y_pred))}')\n"
   ]
  },
  {
   "cell_type": "markdown",
   "id": "82018900",
   "metadata": {},
   "source": [
    "# 랜덤포레스트"
   ]
  },
  {
   "cell_type": "code",
   "execution_count": 23,
   "id": "9a91b8dc",
   "metadata": {
    "ExecuteTime": {
     "end_time": "2021-12-14T01:58:10.767183Z",
     "start_time": "2021-12-14T01:58:04.903300Z"
    }
   },
   "outputs": [
    {
     "name": "stdout",
     "output_type": "stream",
     "text": [
      "r2_score : 0.9437621857733157\n",
      "RMSE : 5012.353924267696\n"
     ]
    }
   ],
   "source": [
    "from sklearn.ensemble import RandomForestRegressor\n",
    "\n",
    "rf_model = RandomForestRegressor()\n",
    "rf_model.fit(x_train, y_train)\n",
    "y_pred = rf_model.predict(x_test)\n",
    "\n",
    "from sklearn.metrics import mean_squared_error, mean_absolute_error, r2_score\n",
    "\n",
    "print(f'r2_score : {r2_score(y_test, y_pred)}')\n",
    "# print(mean_squared_error(y_test, y_pred))\n",
    "print(f'RMSE : {np.sqrt(mean_squared_error(y_test, y_pred))}')"
   ]
  },
  {
   "cell_type": "code",
   "execution_count": null,
   "id": "ad2020b5",
   "metadata": {
    "ExecuteTime": {
     "start_time": "2021-12-14T07:22:14.290Z"
    }
   },
   "outputs": [
    {
     "name": "stdout",
     "output_type": "stream",
     "text": [
      "Fitting 6 folds for each of 20 candidates, totalling 120 fits\n"
     ]
    }
   ],
   "source": [
    "# max_depth=20, max_leaf_nodes=2, min_samples_split=10,\n",
    "                      # n_estimators=300, n_jobs=-1, random_state=1234)\n",
    "rf_model = RandomForestRegressor(random_state=1234, n_jobs=-1)\n",
    "\n",
    "t1 = time.time()\n",
    "parameters = {\n",
    "    \"n_estimators\" : [200, 300, 400],\n",
    "    \"criterion\":[\"mse\",\"mae\",\"squared_error\"],\n",
    "    \"max_depth\":[20,25,300],\n",
    "    \"min_samples_split\" : [5,10,13],\n",
    "    \"max_features\" : [\"auto\",\"sqrt\",\"log2\"]\n",
    "}\n",
    "\n",
    "# RGS\n",
    "n_iter_search = 20\n",
    "rf_rgs_model = RandomizedSearchCV(\n",
    "    rf_model, \n",
    "    param_distributions=parameters,\n",
    "    n_iter=n_iter_search,\n",
    "    cv = kfold,\n",
    "    scoring = \"neg_root_mean_squared_error\", \n",
    "    random_state=1234,\n",
    "    n_jobs=-1,\n",
    "    verbose=2\n",
    ")\n",
    "rf_rgs_model.fit(x_train, y_train)\n",
    "t2 = time.time()\n",
    "print(\"Process Time\", str(t2-t1))\n"
   ]
  },
  {
   "cell_type": "code",
   "execution_count": null,
   "id": "10ac247a",
   "metadata": {
    "ExecuteTime": {
     "start_time": "2021-12-14T07:22:15.791Z"
    }
   },
   "outputs": [],
   "source": [
    "rf_r2score = r2_score(y_test, rf_rgs_model.predict(x_test)) # 결정계수 R^2 score\n",
    "rf_rmse = mean_squared_error(y_test, rf_rgs_model.predict(x_test), squared=False) # RMSE\n",
    "print(f'R2 score : {kr_r2score}, RMSE : {kr_rmse}')\n",
    "print(f'Best Score : {rf_rgs_model.best_score_}')\n",
    "print(f'Best Estimator : {rf_rgs_model.best_estimator_}')\n",
    "print(\"훈련 세트의 정확도 : {:.2f}\".format(rf_rgs_model.score(x_train,y_train)))\n",
    "print(\"테스트 세트의 정확도 : {:.2f}\".format(rf_rgs_model.score(x_test,y_test)))\n"
   ]
  },
  {
   "cell_type": "markdown",
   "id": "a1f7688d",
   "metadata": {},
   "source": [
    "# [y_test df 만들기] "
   ]
  },
  {
   "cell_type": "code",
   "execution_count": 26,
   "id": "fe6f1ffc",
   "metadata": {
    "ExecuteTime": {
     "end_time": "2021-12-14T01:58:21.030962Z",
     "start_time": "2021-12-14T01:58:20.927590Z"
    },
    "scrolled": true
   },
   "outputs": [
    {
     "data": {
      "text/html": [
       "<div>\n",
       "<style scoped>\n",
       "    .dataframe tbody tr th:only-of-type {\n",
       "        vertical-align: middle;\n",
       "    }\n",
       "\n",
       "    .dataframe tbody tr th {\n",
       "        vertical-align: top;\n",
       "    }\n",
       "\n",
       "    .dataframe thead th {\n",
       "        text-align: right;\n",
       "    }\n",
       "</style>\n",
       "<table border=\"1\" class=\"dataframe\">\n",
       "  <thead>\n",
       "    <tr style=\"text-align: right;\">\n",
       "      <th></th>\n",
       "      <th>리뷰건수합</th>\n",
       "      <th>예측값</th>\n",
       "    </tr>\n",
       "  </thead>\n",
       "  <tbody>\n",
       "    <tr>\n",
       "      <th>0</th>\n",
       "      <td>612</td>\n",
       "      <td>831.470000</td>\n",
       "    </tr>\n",
       "    <tr>\n",
       "      <th>1</th>\n",
       "      <td>5</td>\n",
       "      <td>9.980000</td>\n",
       "    </tr>\n",
       "    <tr>\n",
       "      <th>2</th>\n",
       "      <td>42</td>\n",
       "      <td>96.063333</td>\n",
       "    </tr>\n",
       "    <tr>\n",
       "      <th>3</th>\n",
       "      <td>757</td>\n",
       "      <td>1008.810000</td>\n",
       "    </tr>\n",
       "    <tr>\n",
       "      <th>4</th>\n",
       "      <td>1226</td>\n",
       "      <td>1691.720000</td>\n",
       "    </tr>\n",
       "    <tr>\n",
       "      <th>...</th>\n",
       "      <td>...</td>\n",
       "      <td>...</td>\n",
       "    </tr>\n",
       "    <tr>\n",
       "      <th>3955</th>\n",
       "      <td>3124</td>\n",
       "      <td>3154.040000</td>\n",
       "    </tr>\n",
       "    <tr>\n",
       "      <th>3956</th>\n",
       "      <td>19</td>\n",
       "      <td>22.310000</td>\n",
       "    </tr>\n",
       "    <tr>\n",
       "      <th>3957</th>\n",
       "      <td>249</td>\n",
       "      <td>284.950000</td>\n",
       "    </tr>\n",
       "    <tr>\n",
       "      <th>3958</th>\n",
       "      <td>461</td>\n",
       "      <td>572.650000</td>\n",
       "    </tr>\n",
       "    <tr>\n",
       "      <th>3959</th>\n",
       "      <td>348</td>\n",
       "      <td>920.780000</td>\n",
       "    </tr>\n",
       "  </tbody>\n",
       "</table>\n",
       "<p>3960 rows × 2 columns</p>\n",
       "</div>"
      ],
      "text/plain": [
       "      리뷰건수합          예측값\n",
       "0       612   831.470000\n",
       "1         5     9.980000\n",
       "2        42    96.063333\n",
       "3       757  1008.810000\n",
       "4      1226  1691.720000\n",
       "...     ...          ...\n",
       "3955   3124  3154.040000\n",
       "3956     19    22.310000\n",
       "3957    249   284.950000\n",
       "3958    461   572.650000\n",
       "3959    348   920.780000\n",
       "\n",
       "[3960 rows x 2 columns]"
      ]
     },
     "execution_count": 26,
     "metadata": {},
     "output_type": "execute_result"
    }
   ],
   "source": [
    " \n",
    "y_test = pd.DataFrame(y_test)\n",
    "y_test.reset_index(inplace=True)\n",
    "y_test = y_test[['리뷰건수합']]\n",
    "\n",
    "# [df 합치기]\n",
    "y_pred_rf = rf_model.predict(x_test)\n",
    "y_pred_rf = pd.DataFrame(y_pred_rf, columns=['예측값'])\n",
    "result_rf = pd.concat([y_test, y_pred_rf], axis=1); result_rf"
   ]
  },
  {
   "cell_type": "code",
   "execution_count": 27,
   "id": "7c860f17",
   "metadata": {
    "ExecuteTime": {
     "end_time": "2021-12-14T01:58:21.748053Z",
     "start_time": "2021-12-14T01:58:21.602693Z"
    }
   },
   "outputs": [
    {
     "data": {
      "text/plain": [
       "[<matplotlib.lines.Line2D at 0x1bd6876d340>]"
      ]
     },
     "execution_count": 27,
     "metadata": {},
     "output_type": "execute_result"
    },
    {
     "data": {
      "image/png": "[encoded data removed]",
      "text/plain": [
       "<Figure size 432x288 with 1 Axes>"
      ]
     },
     "metadata": {},
     "output_type": "display_data"
    }
   ],
   "source": [
    "plt.plot(y_test,data=result_rf,color = 'b', linestyle = '--', marker='o')"
   ]
  },
  {
   "cell_type": "code",
   "execution_count": 28,
   "id": "b974fd3c",
   "metadata": {
    "ExecuteTime": {
     "end_time": "2021-12-14T01:58:22.216626Z",
     "start_time": "2021-12-14T01:58:22.204668Z"
    }
   },
   "outputs": [],
   "source": [
    "plt.style.use('ggplot')"
   ]
  },
  {
   "cell_type": "code",
   "execution_count": 29,
   "id": "241e556d",
   "metadata": {
    "ExecuteTime": {
     "end_time": "2021-12-14T01:58:22.901673Z",
     "start_time": "2021-12-14T01:58:22.896767Z"
    }
   },
   "outputs": [],
   "source": [
    "\n",
    "# plt.figure(figsize=(100,100))\n",
    "# plt.plot(y_test,data=result_rf,color = 'b', linestyle = '--')\n",
    "# plt.plot(y_pred_rf,data=result_rf,color = 'r', linestyle = '-')\n",
    "# plt.show()"
   ]
  },
  {
   "cell_type": "markdown",
   "id": "b1f45800",
   "metadata": {},
   "source": [
    "# XGBoost"
   ]
  },
  {
   "cell_type": "code",
   "execution_count": 30,
   "id": "bbd8a6e6",
   "metadata": {
    "ExecuteTime": {
     "end_time": "2021-12-14T01:58:30.976729Z",
     "start_time": "2021-12-14T01:58:30.964775Z"
    }
   },
   "outputs": [],
   "source": [
    "# # 중복값제거안한거\n",
    "# # XGBoost\n",
    "# from xgboost import XGBRegressor\n",
    "\n",
    "# xg_model = XGBRegressor()\n",
    "# xg_model.fit(x_train, y_train)\n",
    "# y_pred = xg_model.predict(x_test)\n",
    "# print(f'r2_score : {r2_score(y_test, y_pred)}')\n",
    "# # print(mean_squared_error(y_test, y_pred))\n",
    "# print(f'RMSE : {np.sqrt(mean_squared_error(y_test, y_pred))}')\n"
   ]
  },
  {
   "cell_type": "markdown",
   "id": "c7783d25",
   "metadata": {},
   "source": [
    "# LGBM"
   ]
  },
  {
   "cell_type": "code",
   "execution_count": 31,
   "id": "fab322bd",
   "metadata": {
    "ExecuteTime": {
     "end_time": "2021-12-14T01:58:38.938234Z",
     "start_time": "2021-12-14T01:58:37.949047Z"
    }
   },
   "outputs": [
    {
     "name": "stdout",
     "output_type": "stream",
     "text": [
      "r2_score : 0.8789266526659589\n",
      "RMSE : 7354.476888134196\n"
     ]
    }
   ],
   "source": [
    "# lightGBM\n",
    "from lightgbm import LGBMRegressor\n",
    "\n",
    "lgbm_model = LGBMRegressor()\n",
    "lgbm_model.fit(x_train, y_train)\n",
    "y_pred = lgbm_model.predict(x_test)\n",
    "\n",
    "from sklearn.metrics import mean_squared_error, mean_absolute_error, r2_score\n",
    "\n",
    "print(f'r2_score : {r2_score(y_test, y_pred)}')\n",
    "# print(mean_squared_error(y_test, y_pred))\n",
    "print(f'RMSE : {np.sqrt(mean_squared_error(y_test, y_pred))}')"
   ]
  },
  {
   "cell_type": "markdown",
   "id": "a0156bcc",
   "metadata": {},
   "source": [
    "#  DT"
   ]
  },
  {
   "cell_type": "code",
   "execution_count": 215,
   "id": "c948995b",
   "metadata": {
    "ExecuteTime": {
     "end_time": "2021-12-13T06:55:55.120475Z",
     "start_time": "2021-12-13T06:55:55.017536Z"
    }
   },
   "outputs": [
    {
     "name": "stdout",
     "output_type": "stream",
     "text": [
      "r2_score : 0.9347750838112573\n",
      "RMSE : 5398.017368264093\n"
     ]
    }
   ],
   "source": [
    "# # dt \n",
    "# from sklearn.tree import DecisionTreeRegressor\n",
    "\n",
    "# dt_model = DecisionTreeRegressor()\n",
    "# dt_model.fit(x_train, y_train)\n",
    "# y_pred = dt_model.predict(x_test)\n",
    "\n",
    "# from sklearn.metrics import mean_squared_error, mean_absolute_error, r2_score\n",
    "\n",
    "# print(f'r2_score : {r2_score(y_test, y_pred)}')\n",
    "# # print(mean_squared_error(y_test, y_pred))\n",
    "# print(f'RMSE : {np.sqrt(mean_squared_error(y_test, y_pred))}')"
   ]
  },
  {
   "cell_type": "markdown",
   "id": "37e816b1",
   "metadata": {
    "ExecuteTime": {
     "end_time": "2021-12-13T05:31:11.049592Z",
     "start_time": "2021-12-13T05:31:11.037627Z"
    }
   },
   "source": [
    "# KNN"
   ]
  },
  {
   "cell_type": "code",
   "execution_count": 34,
   "id": "742c6f62",
   "metadata": {
    "ExecuteTime": {
     "end_time": "2021-12-14T01:59:35.449928Z",
     "start_time": "2021-12-14T01:59:34.872919Z"
    }
   },
   "outputs": [
    {
     "name": "stdout",
     "output_type": "stream",
     "text": [
      "r2_score : 0.728359664165119\n",
      "RMSE : 11016.018131825449\n"
     ]
    }
   ],
   "source": [
    "# knn \n",
    "from sklearn.neighbors import KNeighborsRegressor\n",
    "\n",
    "\n",
    "knn_model = KNeighborsRegressor()\n",
    "knn_model.fit(x_train, y_train)\n",
    "y_pred = knn_model.predict(x_test)\n",
    "\n",
    "from sklearn.metrics import mean_squared_error, mean_absolute_error, r2_score\n",
    "\n",
    "print(f'r2_score : {r2_score(y_test, y_pred)}')\n",
    "# print(mean_squared_error(y_test, y_pred))\n",
    "print(f'RMSE : {np.sqrt(mean_squared_error(y_test, y_pred))}')"
   ]
  },
  {
   "cell_type": "code",
   "execution_count": null,
   "id": "3fce222a",
   "metadata": {},
   "outputs": [],
   "source": []
  },
  {
   "cell_type": "code",
   "execution_count": null,
   "id": "670aa4b7",
   "metadata": {},
   "outputs": [],
   "source": []
  },
  {
   "cell_type": "code",
   "execution_count": null,
   "id": "307281dc",
   "metadata": {},
   "outputs": [],
   "source": []
  }
 ],
 "metadata": {
  "kernelspec": {
   "display_name": "Python 3 (ipykernel)",
   "language": "python",
   "name": "python3"
  },
  "language_info": {
   "codemirror_mode": {
    "name": "ipython",
    "version": 3
   },
   "file_extension": ".py",
   "mimetype": "text/x-python",
   "name": "python",
   "nbconvert_exporter": "python",
   "pygments_lexer": "ipython3",
   "version": "3.8.12"
  }
 },
 "nbformat": 4,
 "nbformat_minor": 5
}
